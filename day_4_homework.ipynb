{
 "cells": [
  {
   "cell_type": "markdown",
   "metadata": {},
   "source": [
    "# Object-Oriented-Programming (OOP)"
   ]
  },
  {
   "cell_type": "markdown",
   "metadata": {},
   "source": [
    "## Tasks Today:\n",
    "\n",
    "   \n",
    "\n",
    "1) <b>Creating a Class (Initializing/Declaring)</b> <br>\n",
    "2) <b>Using a Class (Instantiating)</b> <br>\n",
    " &nbsp;&nbsp;&nbsp;&nbsp; a) Creating One Instance <br>\n",
    " &nbsp;&nbsp;&nbsp;&nbsp; b) Creating Multiple Instances <br>\n",
    " &nbsp;&nbsp;&nbsp;&nbsp; c) In-Class Exercise #1 - Create a Class 'Car' and instantiate three different makes of cars <br>\n",
    "3) <b>The \\__init\\__() Method</b> <br>\n",
    " &nbsp;&nbsp;&nbsp;&nbsp; a) The 'self' Attribute <br>\n",
    "4) <b>Class Attributes</b> <br>\n",
    " &nbsp;&nbsp;&nbsp;&nbsp; a) Initializing Attributes <br>\n",
    " &nbsp;&nbsp;&nbsp;&nbsp; b) Setting an Attribute Outside of the \\__init\\__() Method <br>\n",
    " &nbsp;&nbsp;&nbsp;&nbsp; c) Setting Defaults for Attributes <br>\n",
    " &nbsp;&nbsp;&nbsp;&nbsp; d) Accessing Class Attributes <br>\n",
    " &nbsp;&nbsp;&nbsp;&nbsp; e) Changing Class Attributes <br>\n",
    " &nbsp;&nbsp;&nbsp;&nbsp; f) In-Class Exercise #2 - Add a color and wheels attribute to your 'Car' class <br>\n",
    "5) <b>Class Methods</b> <br>\n",
    " &nbsp;&nbsp;&nbsp;&nbsp; a) Creating <br>\n",
    " &nbsp;&nbsp;&nbsp;&nbsp; b) Calling <br>\n",
    " &nbsp;&nbsp;&nbsp;&nbsp; c) Modifying an Attribute's Value Through a Method <br>\n",
    " &nbsp;&nbsp;&nbsp;&nbsp; d) Incrementing an Attribute's Value Through a Method <br>\n",
    " &nbsp;&nbsp;&nbsp;&nbsp; e) In-Class Exercise #3 - Add a method that prints the cars color and wheel number, then call them <br>\n",
    "6) <b>Inheritance</b> <br>\n",
    " &nbsp;&nbsp;&nbsp;&nbsp; a) Syntax for Inheriting from a Parent Class <br>\n",
    " &nbsp;&nbsp;&nbsp;&nbsp; b) The \\__init\\__() Method for a Child Class (super()) <br>\n",
    " &nbsp;&nbsp;&nbsp;&nbsp; c) Defining Attributes and Methods for the Child Class <br>\n",
    " &nbsp;&nbsp;&nbsp;&nbsp; d) Method Overriding <br>\n",
    " &nbsp;&nbsp;&nbsp;&nbsp; e) In-Class Exercise #4 - Create a class 'Ford' that inherits from 'Car' class and initialize it as a Blue Ford Explorer with 4 wheels using the super() method <br>\n",
    "7) <b>Classes as Attributes</b> <br>\n",
    "8) <b>Exercises</b> <br>\n",
    " &nbsp;&nbsp;&nbsp;&nbsp; a) Exercise #1 - Turn the shopping cart program from yesterday into an object-oriented program <br>"
   ]
  },
  {
   "cell_type": "code",
   "execution_count": null,
   "metadata": {},
   "outputs": [],
   "source": [
    "from Ipython.display import clear_display\n",
    "cart = []\n",
    "def addItem(item):\n",
    "    clear_output()\n",
    "    cart.append(item)\n",
    "    \n",
    "def deleteItem(item):\n",
    "    clear_output()\n",
    "    cart.remove(item)\n",
    "    \n",
    "def showCart():\n",
    "    clear_output()\n",
    "    print('Here is your cart....')\n",
    "    for item in cart:\n",
    "        print(item)\n",
    "        \n",
    "def clearCart():\n",
    "    clear_output()\n",
    "    cart.clear()\n",
    "    print('Your cart is now empty....')\n",
    "    \n",
    "def shoppingList():\n",
    "    while True:\n",
    "        ask = input('Do you want to : Show/Add/Delete or Quit?')\n",
    "        if ask.lower() == 'quit':\n",
    "            showCart()\n",
    "            break\n",
    "        elif ask.lower() == 'add':\n",
    "            item = input('WHat should we add?')\n",
    "            addItem(item)\n",
    "        elif ask.lower() == 'delete':\n",
    "            showCart()\n",
    "            item = input('WHat should we add?')\n",
    "            deleteItem(item)\n",
    "            print('items deleted...')\n",
    "            showCart()    \n",
    "        elif ask.lower() == 'show':\n",
    "            showCart()     \n",
    "        elif ask.lower() == 'clear':\n",
    "            clearCart()\n",
    "        else:\n",
    "            print('please enter a valid command')"
   ]
  },
  {
   "cell_type": "markdown",
   "metadata": {},
   "source": [
    "## Creating a Class (Initializing/Declaring)\n",
    "<p>When creating a class, function, or even a variable you are initializing that object. Initializing and Declaring occur at the same time in Python, whereas in lower level languages you have to declare an object before initializing it. This is the first step in the process of using a class.</p>"
   ]
  },
  {
   "cell_type": "code",
   "execution_count": 2,
   "metadata": {},
   "outputs": [],
   "source": [
    "class Car():\n",
    "    wheels = 4\n",
    "    color = 'blue'"
   ]
  },
  {
   "cell_type": "markdown",
   "metadata": {},
   "source": [
    "## Using a Class (Instantiating)\n",
    "<p>The process of creating a class is called <i>Instantiating</i>. Each time you create a variable of that type of class, it is referred to as an <i>Instance</i> of that class. This is the second step in the process of using a class.</p>"
   ]
  },
  {
   "cell_type": "markdown",
   "metadata": {},
   "source": [
    "##### Creating One Instance"
   ]
  },
  {
   "cell_type": "code",
   "execution_count": 7,
   "metadata": {},
   "outputs": [
    {
     "name": "stdout",
     "output_type": "stream",
     "text": [
      "4\n",
      "blue\n",
      "blue\n",
      "<class 'str'>\n"
     ]
    }
   ],
   "source": []
  },
  {
   "cell_type": "markdown",
   "metadata": {},
   "source": [
    "##### Creating Multiple Instances"
   ]
  },
  {
   "cell_type": "code",
   "execution_count": null,
   "metadata": {},
   "outputs": [],
   "source": [
    "ford = Car()\n",
    "ferrari = Car()\n",
    "bmw = Car()\n",
    "\n",
    "print(ford.wheels)\n",
    "print(ford.color)\n",
    "# all are a car object... all different versions of car\n",
    "# print(bmw)\n",
    "# print(ferrari)\n",
    "# print(chevy)\n",
    "\n",
    "print(bmw.color)\n",
    "print(type(bmw.color))"
   ]
  },
  {
   "cell_type": "markdown",
   "metadata": {},
   "source": [
    "##### In-Class Exercise #1 - Create a Class 'Car' and Instantiate three different makes of cars"
   ]
  },
  {
   "cell_type": "code",
   "execution_count": 8,
   "metadata": {},
   "outputs": [
    {
     "name": "stdout",
     "output_type": "stream",
     "text": [
      "200\n"
     ]
    }
   ],
   "source": [
    "class Car():\n",
    "    ferarri = ['2', 200, False]\n",
    "    lemon_wagon = ['4', 780, True]\n",
    "    vw = [1, 70, True]\n",
    "    \n",
    "print(f'The ferarri has {Car.ferarri[1]} hp, {Car.ferarri[0]} doors, \n",
    "          does it have a sunroof? {Car.ferarri[2]}')"
   ]
  },
  {
   "cell_type": "markdown",
   "metadata": {},
   "source": [
    "## The \\__init\\__() Method <br>\n",
    "<p>This method is used in almost every created class, and called only once upon the creation of the class instance. This method will initialize all variables needed for the object.</p>"
   ]
  },
  {
   "cell_type": "code",
   "execution_count": 16,
   "metadata": {},
   "outputs": [
    {
     "name": "stdout",
     "output_type": "stream",
     "text": [
      "V8\n",
      "black\n",
      "4\n"
     ]
    }
   ],
   "source": [
    "class Car:\n",
    "    \n",
    "    engine = 'V8' #constant variable\n",
    "    def __init__(self, wheels, color):\n",
    "        self.wheels = wheels\n",
    "        self.color = color\n",
    "\n",
    "ford = Car(4, 'black')\n",
    "\n",
    "print(ford.engine)\n",
    "print(ford.color)\n",
    "print(ford.wheels)"
   ]
  },
  {
   "cell_type": "markdown",
   "metadata": {},
   "source": [
    "##### The 'self' Attribute <br>\n",
    "<p>This attribute is required to keep track of specific instance's attributes. Without the self attribute, the program would not know how to reference or keep track of an instance's attributes.</p>"
   ]
  },
  {
   "cell_type": "code",
   "execution_count": null,
   "metadata": {},
   "outputs": [],
   "source": [
    "# see above"
   ]
  },
  {
   "cell_type": "markdown",
   "metadata": {},
   "source": [
    "## Class Attributes <br>\n",
    "<p>While variables are inside of a class, they are referred to as attributes and not variables. When someone says 'attribute' you know they're speaking about a class. Attributes can be initialized through the init method, or outside of it.</p>"
   ]
  },
  {
   "cell_type": "markdown",
   "metadata": {},
   "source": [
    "##### Initializing Attributes"
   ]
  },
  {
   "cell_type": "code",
   "execution_count": 20,
   "metadata": {},
   "outputs": [
    {
     "name": "stdout",
     "output_type": "stream",
     "text": [
      "Hot Wheels\n",
      "1\n"
     ]
    }
   ],
   "source": [
    "# see above\n",
    "class Toy:\n",
    "    kind = \"Car\" # Should be something that doesn't change between items.\n",
    "    \n",
    "    def __init__(self, rooftop, brand, horn):\n",
    "        # An init method typically has required attributes\n",
    "        # that always change\n",
    "        self.rooftop = rooftop\n",
    "        self.brand = brand\n",
    "        self.horn = horn\n",
    "        \n",
    "truck = Toy(True, 'Tonka', 1)\n",
    "\n",
    "car = Toy(False, 'Hot Wheels', 0;)\n",
    "\n",
    "print(car.brand)\n",
    "print(truck.horn)"
   ]
  },
  {
   "cell_type": "markdown",
   "metadata": {},
   "source": [
    "##### Accessing Class Attributes"
   ]
  },
  {
   "cell_type": "code",
   "execution_count": null,
   "metadata": {
    "scrolled": true
   },
   "outputs": [],
   "source": [
    "# See Above\n"
   ]
  },
  {
   "cell_type": "markdown",
   "metadata": {},
   "source": [
    "##### Setting Defaults for Attributes"
   ]
  },
  {
   "cell_type": "code",
   "execution_count": 22,
   "metadata": {},
   "outputs": [
    {
     "name": "stdout",
     "output_type": "stream",
     "text": [
      "8\n",
      "Blue\n",
      "2\n",
      "Blue\n"
     ]
    }
   ],
   "source": [
    "class Car:\n",
    "    def __init__(self, wheels):\n",
    "        self.wheels = wheels\n",
    "        self.color = 'Blue' #default in the init method\n",
    "    \n",
    "honda = Car(8)\n",
    "print(honda.wheels)\n",
    "print(honda.color)\n",
    "\n",
    "jeep = Car(2)\n",
    "print(jeep.wheels)\n",
    "print(honda.color)"
   ]
  },
  {
   "cell_type": "markdown",
   "metadata": {},
   "source": [
    "##### Changing Class Attributes <br>\n",
    "<p>Keep in mind there are global class attributes and then there are attributes only available to each class instance which won't effect other classes.</p>"
   ]
  },
  {
   "cell_type": "code",
   "execution_count": 24,
   "metadata": {},
   "outputs": [
    {
     "name": "stdout",
     "output_type": "stream",
     "text": [
      "Here is the color before reassigning... Blue\n",
      "Here is the color after.. Yellow\n"
     ]
    }
   ],
   "source": [
    "# Changing the jeep color\n",
    "print(f'Here is the color before reassigning... {jeep.color}')\n",
    "\n",
    "jeep.color = 'Yellow'\n",
    "# Here is the color after the change\n",
    "print(f'Here is the color after.. {jeep.color}')"
   ]
  },
  {
   "cell_type": "code",
   "execution_count": null,
   "metadata": {},
   "outputs": [],
   "source": []
  },
  {
   "cell_type": "markdown",
   "metadata": {},
   "source": [
    "##### In-Class Exercise #2 - Add a doors and seats attribute to your 'Car' class then print out two different instances with different doors and seats"
   ]
  },
  {
   "cell_type": "code",
   "execution_count": 28,
   "metadata": {},
   "outputs": [
    {
     "name": "stdout",
     "output_type": "stream",
     "text": [
      "I have a Blue Jeep with 4 wheels, 4 doors, and 4 seats!\n",
      "I have a Blue vw with 1 wheels, 1 doors, and 6 seats!\n"
     ]
    }
   ],
   "source": [
    "class Car:\n",
    "    def __init__(self, name, wheels, color, doors, seats):\n",
    "        self.name = name\n",
    "        self.wheels = wheels\n",
    "        self.color = 'Blue'\n",
    "        self.doors = doors\n",
    "        self.seats = seats\n",
    "\n",
    "jeep = Car('Jeep', 4, 'Red', 4, 4)\n",
    "honda = Car('honda',4, 'White', 2, 4)\n",
    "vw = Car('vw', 1, 'orange' ,1, 6)\n",
    "print(f'I have a {jeep.color} {jeep.name} with {jeep.wheels} wheels, {jeep.doors} doors, and {jeep.seats} seats!') \n",
    "print(f'I have a {vw.color} {vw.name} with {vw.wheels} wheels, {vw.doors} doors, and {vw.seats} seats!') "
   ]
  },
  {
   "cell_type": "markdown",
   "metadata": {},
   "source": [
    "## Class Methods <br>\n",
    "<p>While inside of a class, functions are referred to as 'methods'. If you hear someone mention methods, they're speaking about classes. Methods are essentially functions, but only callable on the instances of a class.</p>"
   ]
  },
  {
   "cell_type": "markdown",
   "metadata": {},
   "source": [
    "##### Creating"
   ]
  },
  {
   "cell_type": "code",
   "execution_count": null,
   "metadata": {},
   "outputs": [],
   "source": [
    "class ShoppingBag:\n",
    "    \"\"\"\n",
    "    The ShoppingBag class will have handles, capacity, and items\n",
    "    to place inside.\n",
    "    \n",
    "    Attributes in this class:\n",
    "    - handles: expected to be an interger\n",
    "    - capacity: expected to be an interger\n",
    "    -items: expected to be a list\n",
    "    \"\"\"\n",
    "    \n",
    "    def __init__(self, handles, capacity, items):\n",
    "        self.handles = handles\n",
    "        self.capacity = capacity\n",
    "        self.load = load\n",
    "        self.items = items\n",
    "        \n",
    "    #Method of ShoppingBag Class to show the items inside of items\n",
    "    def showBag(self):\n",
    "        print('Here are the contents of your bag...')\n",
    "        for item, quantity in self.items.items():\n",
    "            print(item)\n",
    "    \n",
    "    #Method to show capacity\n",
    "    def showCap(self):\n",
    "        print(f'The capacity of your bag is: {self.capacity}')\n",
    "        \n",
    "    #Adding items to the list of shopping bag    \n",
    "    def addToBag(self):\n",
    "        product = input('What would you like to add?:')\n",
    "        \n",
    "        if self.capacity <= len(self.items):\n",
    "            print('Your bag is too full! Remove some items or increase your bag capacity!')\n",
    "        elif:\n",
    "            if product in items.keys():\n",
    "                items[product] += 1\n",
    "            else:\n",
    "                items[product] = 1\n",
    "        else:\n",
    "            self.items[product] = quantity      \n",
    "    #Removing items from the bag\n",
    "    def removeFromBag(self):\n",
    "        product = input('What would you like to remove?:')\n",
    "        if self.capacity <= 0:\n",
    "            print('Your bag is empty... Do some shopping!')\n",
    "        else:\n",
    "            self.items.remove(product)\n",
    "            \n",
    "    #Changing the capacity of the bag\n",
    "    def changeCap(self, capacity):\n",
    "        self.capacity = capacity\n",
    "    \n",
    "    def increaseCap(self, cap_change = 10):\n",
    "        self.capacity += cap_change\n",
    "        print(f'Your new capacity is {self.capacity}')\n",
    "        \n",
    "        \n",
    "        \n",
    "        \n",
    "bag = ShoppingBag(2,10,0,{})"
   ]
  },
  {
   "cell_type": "markdown",
   "metadata": {},
   "source": [
    "##### Calling"
   ]
  },
  {
   "cell_type": "code",
   "execution_count": 56,
   "metadata": {},
   "outputs": [
    {
     "name": "stdout",
     "output_type": "stream",
     "text": [
      "Welcome to Whole Foods!\n"
     ]
    },
    {
     "ename": "KeyboardInterrupt",
     "evalue": "Interrupted by user",
     "output_type": "error",
     "traceback": [
      "\u001b[1;31m---------------------------------------------------------------------------\u001b[0m",
      "\u001b[1;31mKeyboardInterrupt\u001b[0m                         Traceback (most recent call last)",
      "\u001b[1;32m~\\AppData\\Local\\Temp/ipykernel_10944/2054757968.py\u001b[0m in \u001b[0;36m<module>\u001b[1;34m\u001b[0m\n\u001b[0;32m     24\u001b[0m             \u001b[0mprint\u001b[0m\u001b[1;33m(\u001b[0m\u001b[1;34m'Try again...'\u001b[0m\u001b[1;33m)\u001b[0m\u001b[1;33m\u001b[0m\u001b[1;33m\u001b[0m\u001b[0m\n\u001b[0;32m     25\u001b[0m \u001b[1;33m\u001b[0m\u001b[0m\n\u001b[1;32m---> 26\u001b[1;33m \u001b[0mrun\u001b[0m\u001b[1;33m(\u001b[0m\u001b[1;33m)\u001b[0m\u001b[1;33m\u001b[0m\u001b[1;33m\u001b[0m\u001b[0m\n\u001b[0m",
      "\u001b[1;32m~\\AppData\\Local\\Temp/ipykernel_10944/2054757968.py\u001b[0m in \u001b[0;36mrun\u001b[1;34m()\u001b[0m\n\u001b[0;32m      3\u001b[0m     \u001b[0mprint\u001b[0m\u001b[1;33m(\u001b[0m\u001b[1;34m'Welcome to Whole Foods!'\u001b[0m\u001b[1;33m)\u001b[0m\u001b[1;33m\u001b[0m\u001b[1;33m\u001b[0m\u001b[0m\n\u001b[0;32m      4\u001b[0m     \u001b[1;32mwhile\u001b[0m \u001b[1;32mTrue\u001b[0m\u001b[1;33m:\u001b[0m\u001b[1;33m\u001b[0m\u001b[1;33m\u001b[0m\u001b[0m\n\u001b[1;32m----> 5\u001b[1;33m         \u001b[0mresponse\u001b[0m \u001b[1;33m=\u001b[0m \u001b[0minput\u001b[0m\u001b[1;33m(\u001b[0m\u001b[1;34m'What would you like to do? add/remove/show/quit/change cap/'\u001b[0m\u001b[1;33m)\u001b[0m\u001b[1;33m\u001b[0m\u001b[1;33m\u001b[0m\u001b[0m\n\u001b[0m\u001b[0;32m      6\u001b[0m \u001b[1;33m\u001b[0m\u001b[0m\n\u001b[0;32m      7\u001b[0m         \u001b[1;32mif\u001b[0m \u001b[0mresponse\u001b[0m\u001b[1;33m.\u001b[0m\u001b[0mlower\u001b[0m\u001b[1;33m(\u001b[0m\u001b[1;33m)\u001b[0m \u001b[1;33m==\u001b[0m \u001b[1;34m'quit'\u001b[0m\u001b[1;33m:\u001b[0m\u001b[1;33m\u001b[0m\u001b[1;33m\u001b[0m\u001b[0m\n",
      "\u001b[1;32m~\\anaconda3\\lib\\site-packages\\ipykernel\\kernelbase.py\u001b[0m in \u001b[0;36mraw_input\u001b[1;34m(self, prompt)\u001b[0m\n\u001b[0;32m   1004\u001b[0m                 \u001b[1;34m\"raw_input was called, but this frontend does not support input requests.\"\u001b[0m\u001b[1;33m\u001b[0m\u001b[1;33m\u001b[0m\u001b[0m\n\u001b[0;32m   1005\u001b[0m             )\n\u001b[1;32m-> 1006\u001b[1;33m         return self._input_request(\n\u001b[0m\u001b[0;32m   1007\u001b[0m             \u001b[0mstr\u001b[0m\u001b[1;33m(\u001b[0m\u001b[0mprompt\u001b[0m\u001b[1;33m)\u001b[0m\u001b[1;33m,\u001b[0m\u001b[1;33m\u001b[0m\u001b[1;33m\u001b[0m\u001b[0m\n\u001b[0;32m   1008\u001b[0m             \u001b[0mself\u001b[0m\u001b[1;33m.\u001b[0m\u001b[0m_parent_ident\u001b[0m\u001b[1;33m[\u001b[0m\u001b[1;34m\"shell\"\u001b[0m\u001b[1;33m]\u001b[0m\u001b[1;33m,\u001b[0m\u001b[1;33m\u001b[0m\u001b[1;33m\u001b[0m\u001b[0m\n",
      "\u001b[1;32m~\\anaconda3\\lib\\site-packages\\ipykernel\\kernelbase.py\u001b[0m in \u001b[0;36m_input_request\u001b[1;34m(self, prompt, ident, parent, password)\u001b[0m\n\u001b[0;32m   1049\u001b[0m             \u001b[1;32mexcept\u001b[0m \u001b[0mKeyboardInterrupt\u001b[0m\u001b[1;33m:\u001b[0m\u001b[1;33m\u001b[0m\u001b[1;33m\u001b[0m\u001b[0m\n\u001b[0;32m   1050\u001b[0m                 \u001b[1;31m# re-raise KeyboardInterrupt, to truncate traceback\u001b[0m\u001b[1;33m\u001b[0m\u001b[1;33m\u001b[0m\u001b[1;33m\u001b[0m\u001b[0m\n\u001b[1;32m-> 1051\u001b[1;33m                 \u001b[1;32mraise\u001b[0m \u001b[0mKeyboardInterrupt\u001b[0m\u001b[1;33m(\u001b[0m\u001b[1;34m\"Interrupted by user\"\u001b[0m\u001b[1;33m)\u001b[0m \u001b[1;32mfrom\u001b[0m \u001b[1;32mNone\u001b[0m\u001b[1;33m\u001b[0m\u001b[1;33m\u001b[0m\u001b[0m\n\u001b[0m\u001b[0;32m   1052\u001b[0m             \u001b[1;32mexcept\u001b[0m \u001b[0mException\u001b[0m\u001b[1;33m:\u001b[0m\u001b[1;33m\u001b[0m\u001b[1;33m\u001b[0m\u001b[0m\n\u001b[0;32m   1053\u001b[0m                 \u001b[0mself\u001b[0m\u001b[1;33m.\u001b[0m\u001b[0mlog\u001b[0m\u001b[1;33m.\u001b[0m\u001b[0mwarning\u001b[0m\u001b[1;33m(\u001b[0m\u001b[1;34m\"Invalid Message:\"\u001b[0m\u001b[1;33m,\u001b[0m \u001b[0mexc_info\u001b[0m\u001b[1;33m=\u001b[0m\u001b[1;32mTrue\u001b[0m\u001b[1;33m)\u001b[0m\u001b[1;33m\u001b[0m\u001b[1;33m\u001b[0m\u001b[0m\n",
      "\u001b[1;31mKeyboardInterrupt\u001b[0m: Interrupted by user"
     ]
    }
   ],
   "source": [
    "def run():\n",
    "    wholefoods = ShoppingBag(2,20,[])\n",
    "    print('Welcome to Whole Foods!')\n",
    "    while True:\n",
    "        response = input('What would you like to do? add/remove/show/quit/change cap')\n",
    "        \n",
    "        if response.lower() == 'quit':\n",
    "            wholefoods.showBag()\n",
    "            print('Thanks for shopping!')\n",
    "            break\n",
    "            \n",
    "        elif response.lower() == 'add':\n",
    "            wholefoods.addToBag()\n",
    "        elif response.lower() == 'remove':\n",
    "            wholefoods.removeFromBag()\n",
    "        elif response.lower() == 'show':\n",
    "            wholefoods.showBag()\n",
    "        elif response.lower() == 'change cap':\n",
    "            size = input('how much total space do you need?')\n",
    "            \n",
    "            wholefoods.changeCap(size)\n",
    "            wholefoods.showCap()\n",
    "        else:\n",
    "            print('Try again...')\n",
    "            \n",
    "run()"
   ]
  },
  {
   "cell_type": "markdown",
   "metadata": {},
   "source": [
    "##### Modifying an Attribute's Value Through a Method"
   ]
  },
  {
   "cell_type": "code",
   "execution_count": null,
   "metadata": {},
   "outputs": [],
   "source": [
    "bag.showCap()\n",
    "bag.changeCap(50)\n",
    "bag.showCap()"
   ]
  },
  {
   "cell_type": "markdown",
   "metadata": {},
   "source": [
    "##### Incrementing an Attribute's Value Through a Method"
   ]
  },
  {
   "cell_type": "code",
   "execution_count": null,
   "metadata": {},
   "outputs": [],
   "source": [
    "items = {}\n",
    "\n",
    "ui = input('What do you want to add?')\n",
    "\n",
    "if ui in items:\n",
    "    items[ui] += 1\n",
    "else:\n",
    "    items[ui] = 1"
   ]
  },
  {
   "cell_type": "markdown",
   "metadata": {},
   "source": [
    "##### In-Class Exercise #3 - Add a method that takes in three parameters of year, doors and seats and prints out a formatted print statement with make, model, year, seats, and doors"
   ]
  },
  {
   "cell_type": "code",
   "execution_count": 60,
   "metadata": {},
   "outputs": [
    {
     "name": "stdout",
     "output_type": "stream",
     "text": [
      "This car is from 2002, and is a Pontiac Thunderbird and has 2 doors and 2 seats.\n"
     ]
    }
   ],
   "source": [
    "# Create class with 2 paramters inside of the __init__ which are make and model\n",
    "\n",
    "# Inside of the Car class create a method that has 4 parameter in total (self,year,door,seats)\n",
    "\n",
    "# Output: This car is from 2019 and is a Ford Expolorer and has 4 doors and 5 seats\n",
    "class Car():\n",
    "    \n",
    "    def __init__(self, make, model):\n",
    "        self.make = make\n",
    "        self.model = model\n",
    "\n",
    "    def printInfo(self, year, doors, seats):\n",
    "        print(f'This car is from {year}, and is a {car.make} {car.model} and has {doors} doors and {seats} seats.')\n",
    "\n",
    "car = Car(\"Pontiac\", \"Thunderbird\")\n",
    "car.printInfo(2002, 2, 2)"
   ]
  },
  {
   "cell_type": "markdown",
   "metadata": {},
   "source": [
    "## Inheritance <br>\n",
    "<p>You can create a child-parent relationship between two classes by using inheritance. What this allows you to do is have overriding methods, but also inherit traits from the parent class. Think of it as an actual parent and child, the child will inherit the parent's genes, as will the classes in OOP</p>"
   ]
  },
  {
   "cell_type": "markdown",
   "metadata": {},
   "source": [
    "##### Syntax for Inheriting from a Parent Class"
   ]
  },
  {
   "cell_type": "code",
   "execution_count": 74,
   "metadata": {},
   "outputs": [
    {
     "name": "stdout",
     "output_type": "stream",
     "text": [
      "This dog has 10 mph in speed and 4 legs\n"
     ]
    }
   ],
   "source": [
    "# create a parent class -- animal\n",
    "class Animal:\n",
    "    def __init__(self, name, species, legs=4):\n",
    "        self.name = name\n",
    "        self.species = species\n",
    "        self.legs = legs\n",
    "        \n",
    "    #some generic sound\n",
    "    def makeSound(self):\n",
    "        print('Generic animal noises here!')\n",
    "        \n",
    "        \n",
    "#creation of dog class that ingerits everything from animal class\n",
    "class Dog(Animal):\n",
    "    speed = 10\n",
    "    \n",
    "    def printInfo(self):\n",
    "        print(f'This dog has {self.speed} mph in speed and {self.legs} legs')\n",
    "\n",
    "new_dog = Dog('Hank', 'Labrador Retriever')\n",
    "Dog.printInfo(new_dog)\n",
    "\n",
    "# creation of grandchild\n",
    "class Mut(Dog):\n",
    "    # Method override of the og Animal method for makeSound\n",
    "    \n",
    "    def makeSound(self):\n",
    "        noise = 'Bark!'\n",
    "        return noise\n",
    "    \n",
    "griffin = Mut('griffin', 'who knows')\n",
    "\n",
    "griffin.makeSound()"
   ]
  },
  {
   "cell_type": "markdown",
   "metadata": {},
   "source": [
    "##### The \\__init\\__() Method for a Child Class - super()"
   ]
  },
  {
   "cell_type": "code",
   "execution_count": 84,
   "metadata": {
    "scrolled": true
   },
   "outputs": [
    {
     "data": {
      "text/plain": [
       "'who knows'"
      ]
     },
     "execution_count": 84,
     "metadata": {},
     "output_type": "execute_result"
    }
   ],
   "source": [
    "class Mut(Dog):\n",
    "    \n",
    "    #Overriding the Animal class __init__ method that\n",
    "    #Mut inherited through Dog\n",
    "    def __init__(self, name, species, tail, legs = 4):\n",
    "        super().__init__(name,species,legs)\n",
    "        self.tail = tail\n",
    "    #Method overriding of the og Animal method for makeSound\n",
    "    def makeSound(self):\n",
    "        noise = 'Bark!'\n",
    "        return noise\n",
    "    \n",
    "lassie = Mut('Lassie', 'who knows', True, 3)\n",
    "\n",
    "lassie.species"
   ]
  },
  {
   "cell_type": "markdown",
   "metadata": {},
   "source": [
    "##### Defining Attributes and Methods for the Child Class"
   ]
  },
  {
   "cell_type": "code",
   "execution_count": null,
   "metadata": {},
   "outputs": [],
   "source": [
    "# See Above"
   ]
  },
  {
   "cell_type": "markdown",
   "metadata": {},
   "source": [
    "##### Method Overriding"
   ]
  },
  {
   "cell_type": "code",
   "execution_count": null,
   "metadata": {},
   "outputs": [],
   "source": [
    "# See Above"
   ]
  },
  {
   "cell_type": "markdown",
   "metadata": {},
   "source": [
    "## Classes as Attributes <br>\n",
    "<p>Classes can also be used as attributes within another class. This is useful in situations where you need to keep variables locally stored, instead of globally stored.</p>"
   ]
  },
  {
   "cell_type": "code",
   "execution_count": 93,
   "metadata": {},
   "outputs": [
    {
     "data": {
      "text/plain": [
       "{'year': 2022,\n",
       " 'make': 'Rivian',\n",
       " 'model': 'R1T',\n",
       " 'battery': <__main__.Battery at 0x24ace7a61c0>}"
      ]
     },
     "execution_count": 93,
     "metadata": {},
     "output_type": "execute_result"
    }
   ],
   "source": [
    "class Battery:\n",
    "    def __init__(self, cells, volts):\n",
    "        self.cells = cells\n",
    "        self.volts = volts\n",
    "        \n",
    "class Car:\n",
    "    def __init__(self, year, make, model, battery):\n",
    "        self.year = year\n",
    "        self.make = make\n",
    "        self.model = model\n",
    "        self.battery = battery\n",
    "        \n",
    "    def printInfo(self):\n",
    "        return f'{self.year} {self.make} {self.model} has a battery with {self.battery.volts} volts and {self.battery.cells} cells.'\n",
    "    \n",
    "battery = Battery(20, 60)\n",
    "\n",
    "rivian = Car(2022, 'Rivian', 'R1T', battery)\n",
    "\n",
    "# To see all attributes inside of a dictionary use instanceName.__dict__\n",
    "rivian.__dict__\n"
   ]
  },
  {
   "cell_type": "markdown",
   "metadata": {},
   "source": [
    "# Exercises"
   ]
  },
  {
   "cell_type": "markdown",
   "metadata": {},
   "source": [
    "### Exercise 1 - Turn the shopping cart program from yesterday into an object-oriented program\n",
    "\n",
    "The comments in the cell below are there as a guide for thinking about the problem. However, if you feel a different way is best for you and your own thought process, please do what feels best for you by all means."
   ]
  },
  {
   "cell_type": "code",
   "execution_count": null,
   "metadata": {
    "scrolled": true
   },
   "outputs": [],
   "source": [
    "class ShoppingBag:\n",
    "    \"\"\"\n",
    "    The ShoppingBag class will have handles, capacity, and items\n",
    "    to place inside.\n",
    "    \n",
    "    Attributes in this class:\n",
    "    - handles: expected to be an interger\n",
    "    - capacity: expected to be an interger\n",
    "    -items: expected to be a list\n",
    "    \"\"\"\n",
    "    \n",
    "    def __init__(self, handles, capacity, load, items):\n",
    "        self.handles = handles\n",
    "        self.capacity = capacity\n",
    "        self.load = load\n",
    "        self.items = items\n",
    "        \n",
    "    #Adding items to the list of shopping bag    \n",
    "    def addToBag(self):\n",
    "        quantity_check = True\n",
    "        product = input('What would you like to add?:')\n",
    "        # Check for too many items\n",
    "        if self.load == self.capacity:\n",
    "            print('Your bag is too full! Remove some items...')\n",
    "        # Check to make sure the amount given doesn't go above allotted space\n",
    "        else:\n",
    "            while quantity_check:\n",
    "                quantity = int(input('How many would you like to add?:'))\n",
    "                if quantity + self.load > self.capacity:\n",
    "                    print(\"Your bag can't hold that many!\")\n",
    "                else:\n",
    "                    quantity_check = False\n",
    "            # If the item is in the list already add quantity to existing total         \n",
    "            if product in self.items.keys():\n",
    "                self.items[product] += int(quantity)\n",
    "                self.load = sum(self.items.values())\n",
    "            # If item not in bag add item and designated amount          \n",
    "            else:\n",
    "                self.items[product] = int(quantity)\n",
    "                self.load = sum(self.items.values())\n",
    "\n",
    "    #Removing items from the bag\n",
    "    def removeFromBag(self):\n",
    "        # Check to see if the bag is empty\n",
    "        if self.load <= 0:\n",
    "            print('Your bag is empty... Do some shopping!')\n",
    "        # Else do the remove tools\n",
    "        else:\n",
    "            product = input('What would you like to remove?:')\n",
    "            # If item removed has only one item left removed that from the list and move on\n",
    "            if self.items[product] == 1:\n",
    "                del self.items[product]\n",
    "                self.load = sum(self.items.values())\n",
    "            # If there is more than 1 item in the bag ask how many to remove\n",
    "            elif self.items[product] > 1:\n",
    "                amount = int(input('How many would you like to remove?:'))\n",
    "                # If amount removed is more than or equal to amount in bag remove item from dictionary\n",
    "                if amount >= self.items[product]:\n",
    "                    del self.items[product]\n",
    "                    self.load = sum(self.items.values())\n",
    "                # Else do subtraction to give new item total\n",
    "                else:\n",
    "                    self.items[product] -= int(amount)\n",
    "                    self.load = sum(self.items.values())\n",
    "    \n",
    "        \n",
    "    #Method of ShoppingBag Class to show the items inside of items\n",
    "    def showBag(self):\n",
    "        if self.items == {}:\n",
    "            print('Your bag is empty... Do some shopping!')\n",
    "        else:\n",
    "            if self.load == self.capacity:\n",
    "                print('Your bag is full!!')\n",
    "            print('Here are the contents of your bag...')\n",
    "            for item, quantity in self.items.items():\n",
    "                print(f'{item} x{quantity}')        \n",
    "    \n",
    "    #Method to show capacity\n",
    "    def showCap(self):\n",
    "        print(f'The capacity of your bag is: {self.capacity}')\n",
    "        \n",
    "    #Changing the capacity of the bag\n",
    "    def changeCap(self, capacity):\n",
    "        self.capacity = capacity\n",
    "    # Increasing the capcity\n",
    "    def increaseCap(self, cap_change = 10):\n",
    "        self.capacity += cap_change\n",
    "        print(f'Your new capacity is {self.capacity}')\n",
    "    # Showing the total load of the bag or cart..\n",
    "    def showLoad(self):\n",
    "        print(f'The load of your bag is: {self.load}')\n",
    "        \n",
    "        \n",
    "def run():\n",
    "    wholefoods = ShoppingBag(2, 20, 1, {'banana': 1})\n",
    "    # For Marcus:\n",
    "    # This program is capable of doing the basics requirements of the homework plus:\n",
    "    # Limit amount of additions to bag based on capacity\\nWhen removing, check for an empty bag and return to promt\n",
    "    # When removing script will check to see if 1 or more items are left and promt correctly\n",
    "    # When adding items to partially full bag limit additions based on current load and capacity\n",
    "    print('Welcome to Whole Foods!')\n",
    "    while True:\n",
    "        response = input('What would you like to do? \\nadd/remove/show bag\\nshow load/show capacity/change capacity/increase capacity\\nquit\\n')\n",
    "        \n",
    "        if response.lower() == 'quit':\n",
    "            wholefoods.showBag()\n",
    "            print('Proceed to checkout and...\\nThanks for shopping!')\n",
    "            break\n",
    "            \n",
    "        elif response.lower() == 'add':\n",
    "            wholefoods.addToBag()\n",
    "        \n",
    "        elif response.lower() == 'remove':\n",
    "            wholefoods.removeFromBag()\n",
    "        \n",
    "        elif response.lower() == 'show bag':\n",
    "            wholefoods.showBag()\n",
    "        \n",
    "        elif response.lower() == 'show capacity':\n",
    "            wholefoods.showCap()\n",
    "        \n",
    "        elif response.lower() == 'change capacity':\n",
    "            size = int(input('how much total space do you need?'))           \n",
    "            wholefoods.changeCap(size)\n",
    "            wholefoods.showCap()\n",
    "        \n",
    "        elif response.lower() == 'increase capacity':\n",
    "            wholefoods.increaseCap()\n",
    "            \n",
    "        elif response.lower() == 'show load':\n",
    "            wholefoods.showLoad()\n",
    "        \n",
    "        else:\n",
    "            print('Try again...')\n",
    "            \n",
    "run()"
   ]
  },
  {
   "cell_type": "markdown",
   "metadata": {},
   "source": [
    "# Exercise 2 - Write a Python class which has two methods get_String and print_String. get_String accept a string from the user and print_String print the string in upper case"
   ]
  },
  {
   "cell_type": "code",
   "execution_count": null,
   "metadata": {},
   "outputs": [],
   "source": [
    "class Strings:\n",
    "    \n",
    "    def __init__(self, string):\n",
    "        self.string = string\n",
    "    \n",
    "    def getString(self):\n",
    "        self.string = input('What would you like to print in UPPERCASE?:')\n",
    "        \n",
    "    \n",
    "    def printString(self):\n",
    "        print(f'{self.string.upper()}')\n",
    "    \n",
    "    \n",
    "def run():\n",
    "    word_string = Strings('')\n",
    "    word_string.getString()\n",
    "    word_string.printString()\n",
    "    \n",
    "run()"
   ]
  }
 ],
 "metadata": {
  "kernelspec": {
   "display_name": "Python 3 (ipykernel)",
   "language": "python",
   "name": "python3"
  },
  "language_info": {
   "codemirror_mode": {
    "name": "ipython",
    "version": 3
   },
   "file_extension": ".py",
   "mimetype": "text/x-python",
   "name": "python",
   "nbconvert_exporter": "python",
   "pygments_lexer": "ipython3",
   "version": "3.8.8"
  }
 },
 "nbformat": 4,
 "nbformat_minor": 2
}
